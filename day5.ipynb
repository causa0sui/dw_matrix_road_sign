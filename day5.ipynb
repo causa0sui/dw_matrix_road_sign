{
  "nbformat": 4,
  "nbformat_minor": 0,
  "metadata": {
    "colab": {
      "name": "day5.ipynb",
      "provenance": [],
      "collapsed_sections": [],
      "mount_file_id": "1an9ZHTzfAfvDIujhG5GISwiBHM6O8orG",
      "authorship_tag": "ABX9TyMLqnjo8E0JRmsKRND2KKqK",
      "include_colab_link": true
    },
    "kernelspec": {
      "name": "python3",
      "display_name": "Python 3"
    },
    "accelerator": "GPU"
  },
  "cells": [
    {
      "cell_type": "markdown",
      "metadata": {
        "id": "view-in-github",
        "colab_type": "text"
      },
      "source": [
        "<a href=\"https://colab.research.google.com/github/causa0sui/dw_matrix_road_sign/blob/master/day5.ipynb\" target=\"_parent\"><img src=\"https://colab.research.google.com/assets/colab-badge.svg\" alt=\"Open In Colab\"/></a>"
      ]
    },
    {
      "cell_type": "code",
      "metadata": {
        "id": "5WYivMlwf3Oc",
        "colab_type": "code",
        "outputId": "224c99f4-0d49-4fe8-ed12-12d98f51822f",
        "colab": {
          "base_uri": "https://localhost:8080/",
          "height": 51
        }
      },
      "source": [
        "import pandas as pd\n",
        "import numpy as np\n",
        "import datetime\n",
        "import os\n",
        "\n",
        "import tensorflow as tf\n",
        "from tensorflow.keras.models import Sequential\n",
        "from tensorflow.keras.layers import Conv2D, MaxPool2D, Dense, Flatten, Dropout\n",
        "from tensorflow.keras.utils import to_categorical\n",
        "\n",
        "import matplotlib.pyplot as plt\n",
        "from skimage import color, exposure\n",
        "\n",
        "from sklearn.metrics import accuracy_score\n",
        "\n",
        "from hyperopt import hp, STATUS_OK, tpe, Trials, fmin\n",
        "\n",
        "%load_ext tensorboard"
      ],
      "execution_count": 0,
      "outputs": [
        {
          "output_type": "stream",
          "text": [
            "The tensorboard extension is already loaded. To reload it, use:\n",
            "  %reload_ext tensorboard\n"
          ],
          "name": "stdout"
        }
      ]
    },
    {
      "cell_type": "code",
      "metadata": {
        "id": "fealuLJ6gpNH",
        "colab_type": "code",
        "outputId": "b952733c-7c71-43f6-da7c-d4865649aeaa",
        "colab": {
          "base_uri": "https://localhost:8080/",
          "height": 34
        }
      },
      "source": [
        "cd '/content/drive/My Drive/Colab Notebooks/matrix/matrix_three/dw_matrix_road_sign'"
      ],
      "execution_count": 0,
      "outputs": [
        {
          "output_type": "stream",
          "text": [
            "/content/drive/My Drive/Colab Notebooks/matrix/matrix_three/dw_matrix_road_sign\n"
          ],
          "name": "stdout"
        }
      ]
    },
    {
      "cell_type": "code",
      "metadata": {
        "id": "irCXFLfmg2wT",
        "colab_type": "code",
        "colab": {}
      },
      "source": [
        "train = pd.read_pickle(\"data/train.p\")\n",
        "test = pd.read_pickle(\"data/test.p\")\n",
        "\n",
        "X_train, y_train = train[\"features\"], train[\"labels\"]\n",
        "X_test, y_test = test[\"features\"], test[\"labels\"]"
      ],
      "execution_count": 0,
      "outputs": []
    },
    {
      "cell_type": "code",
      "metadata": {
        "id": "rJvHErFJqAsm",
        "colab_type": "code",
        "colab": {}
      },
      "source": [
        "if y_train.ndim == 1: y_train = to_categorical(y_train)\n",
        "if y_test.ndim == 1: y_test = to_categorical(y_test)"
      ],
      "execution_count": 0,
      "outputs": []
    },
    {
      "cell_type": "code",
      "metadata": {
        "id": "Ze8II0rqBZvE",
        "colab_type": "code",
        "colab": {}
      },
      "source": [
        " input_shape = X_train.shape[1:]\n",
        " num_classes = y_train.shape[1]"
      ],
      "execution_count": 0,
      "outputs": []
    },
    {
      "cell_type": "code",
      "metadata": {
        "id": "3VLbEcNtD5NN",
        "colab_type": "code",
        "colab": {}
      },
      "source": [
        "def get_cnn_v1(input_shape, num_classes):\n",
        "  return Sequential([\n",
        "    Conv2D(filters=64, kernel_size = (3, 3), activation='relu', input_shape = input_shape),\n",
        "\n",
        "    Flatten(),\n",
        "\n",
        "    Dense(num_classes, activation='softmax'),\n",
        "])\n",
        "\n",
        "\n",
        "def train_model(model, X_train, y_train, params_fit={}):\n",
        "  model.compile(loss = 'categorical_crossentropy', optimizer='Adam', metrics=['accuracy'])\n",
        "\n",
        "  logdir = os.path.join('logs', datetime.datetime.now().strftime(\"%Y%m%d-%H%M%S\"))\n",
        "  tensorboard_callback = tf.keras.callbacks.TensorBoard(logdir, histogram_freq=1)\n",
        "\n",
        "  model.fit(\n",
        "      X_train, \n",
        "      y_train,\n",
        "      batch_size = params_fit.get('batch_size', 128),\n",
        "      epochs = params_fit.get('epochs', 5),\n",
        "      verbose = params_fit.get('verbose', 1),\n",
        "      validation_data = params_fit.get('validation_data', (X_train, y_train)),\n",
        "      callbacks = [tensorboard_callback]\n",
        "      )\n",
        "  return model"
      ],
      "execution_count": 0,
      "outputs": []
    },
    {
      "cell_type": "code",
      "metadata": {
        "id": "zpnXTUisFksL",
        "colab_type": "code",
        "outputId": "ec1c7957-98ac-4431-cf90-36b6e13f19b7",
        "colab": {
          "base_uri": "https://localhost:8080/",
          "height": 207
        }
      },
      "source": [
        "model = get_cnn_v1(input_shape, num_classes)\n",
        "model_trained = train_model(model, X_train, y_train)"
      ],
      "execution_count": 0,
      "outputs": [
        {
          "output_type": "stream",
          "text": [
            "Epoch 1/5\n",
            "272/272 [==============================] - 7s 24ms/step - loss: 31.0908 - accuracy: 0.7061 - val_loss: 0.2931 - val_accuracy: 0.9314\n",
            "Epoch 2/5\n",
            "272/272 [==============================] - 6s 23ms/step - loss: 0.2477 - accuracy: 0.9412 - val_loss: 0.1696 - val_accuracy: 0.9563\n",
            "Epoch 3/5\n",
            "272/272 [==============================] - 6s 23ms/step - loss: 0.1477 - accuracy: 0.9649 - val_loss: 0.1244 - val_accuracy: 0.9712\n",
            "Epoch 4/5\n",
            "272/272 [==============================] - 6s 24ms/step - loss: 0.1151 - accuracy: 0.9728 - val_loss: 0.1119 - val_accuracy: 0.9755\n",
            "Epoch 5/5\n",
            "272/272 [==============================] - 7s 24ms/step - loss: 0.1068 - accuracy: 0.9759 - val_loss: 0.1088 - val_accuracy: 0.9738\n"
          ],
          "name": "stdout"
        }
      ]
    },
    {
      "cell_type": "code",
      "metadata": {
        "id": "Us2xCbm7FaPG",
        "colab_type": "code",
        "colab": {}
      },
      "source": [
        "df = pd.read_csv(\"data/signnames.csv\")\n",
        "labels_dict = df.to_dict()['b']\n"
      ],
      "execution_count": 0,
      "outputs": []
    },
    {
      "cell_type": "code",
      "metadata": {
        "id": "UlY9iKAJDQ1o",
        "colab_type": "code",
        "colab": {}
      },
      "source": [
        "def predict(model_trained, X_test, y_test, scoring = accuracy_score):\n",
        "\n",
        "  y_test_norm = np.argmax(y_test, axis = 1)\n",
        "\n",
        "  y_pred_prob = model_trained.predict(X_test)\n",
        "  y_pred = np.argmax(y_pred_prob, axis = 1)\n",
        "\n",
        "  return scoring(y_test_norm, y_pred)\n"
      ],
      "execution_count": 0,
      "outputs": []
    },
    {
      "cell_type": "code",
      "metadata": {
        "id": "ntwJfG5uSQS5",
        "colab_type": "code",
        "outputId": "bd8ef0a0-c326-4fa9-8b14-559cae20367f",
        "colab": {
          "base_uri": "https://localhost:8080/",
          "height": 34
        }
      },
      "source": [
        "predict(model_trained, X_test, y_test)"
      ],
      "execution_count": 0,
      "outputs": [
        {
          "output_type": "execute_result",
          "data": {
            "text/plain": [
              "0.8235827664399092"
            ]
          },
          "metadata": {
            "tags": []
          },
          "execution_count": 18
        }
      ]
    },
    {
      "cell_type": "code",
      "metadata": {
        "id": "ehIRti6ZT2Tv",
        "colab_type": "code",
        "colab": {}
      },
      "source": [
        "def train_and_predict(model):\n",
        "  model_trained = train_model(model, X_train, y_train)\n",
        "  return predict(model_trained, X_test, y_test)"
      ],
      "execution_count": 0,
      "outputs": []
    },
    {
      "cell_type": "code",
      "metadata": {
        "id": "GkHY-BtxT44G",
        "colab_type": "code",
        "colab": {}
      },
      "source": [
        ""
      ],
      "execution_count": 0,
      "outputs": []
    },
    {
      "cell_type": "code",
      "metadata": {
        "id": "Y4FaRrBrFN-2",
        "colab_type": "code",
        "outputId": "e5fbc5ca-079c-44ba-bdd0-784d0483c617",
        "colab": {
          "base_uri": "https://localhost:8080/",
          "height": 224
        }
      },
      "source": [
        "def get_cnn_v2(input_shape, num_classes):\n",
        "  return Sequential([\n",
        "    Conv2D(filters=32, kernel_size = (3, 3), activation='relu', input_shape = input_shape),\n",
        "    MaxPool2D(),\n",
        "    Dropout(0.3),\n",
        "\n",
        "    Conv2D(filters=64, kernel_size = (3, 3), activation='relu'),\n",
        "    MaxPool2D(),\n",
        "    Dropout(0.3),\n",
        "\n",
        "    Flatten(),\n",
        "    Dense(1024, activation='relu'),\n",
        "    Dropout(0.3),\n",
        "\n",
        "    Dense(num_classes, activation='softmax'),\n",
        "])\n",
        "\n",
        "\n",
        "\n",
        "train_and_predict(get_cnn_v2(input_shape, num_classes))"
      ],
      "execution_count": 0,
      "outputs": [
        {
          "output_type": "stream",
          "text": [
            "Epoch 1/5\n",
            "272/272 [==============================] - 7s 24ms/step - loss: 3.6873 - accuracy: 0.4596 - val_loss: 0.5232 - val_accuracy: 0.8820\n",
            "Epoch 2/5\n",
            "272/272 [==============================] - 6s 23ms/step - loss: 0.6798 - accuracy: 0.8004 - val_loss: 0.1784 - val_accuracy: 0.9603\n",
            "Epoch 3/5\n",
            "272/272 [==============================] - 6s 23ms/step - loss: 0.3931 - accuracy: 0.8848 - val_loss: 0.0974 - val_accuracy: 0.9800\n",
            "Epoch 4/5\n",
            "272/272 [==============================] - 6s 23ms/step - loss: 0.2837 - accuracy: 0.9151 - val_loss: 0.0661 - val_accuracy: 0.9877\n",
            "Epoch 5/5\n",
            "272/272 [==============================] - 6s 23ms/step - loss: 0.2274 - accuracy: 0.9331 - val_loss: 0.0414 - val_accuracy: 0.9917\n"
          ],
          "name": "stdout"
        },
        {
          "output_type": "execute_result",
          "data": {
            "text/plain": [
              "0.9310657596371882"
            ]
          },
          "metadata": {
            "tags": []
          },
          "execution_count": 20
        }
      ]
    },
    {
      "cell_type": "code",
      "metadata": {
        "id": "fyQL5igTW0Rv",
        "colab_type": "code",
        "outputId": "d7a2f24e-8685-4086-a88b-8cbcf5bdb321",
        "colab": {
          "base_uri": "https://localhost:8080/",
          "height": 224
        }
      },
      "source": [
        "def get_cnn_v3(input_shape, num_classes):\n",
        "  return Sequential([\n",
        "    Conv2D(filters=32, kernel_size = (3, 3), activation='relu', input_shape = input_shape),\n",
        "    Conv2D(filters=32, kernel_size = (3, 3), activation='relu'),\n",
        "    MaxPool2D(),\n",
        "    Dropout(0.3),\n",
        "\n",
        "    Conv2D(filters=64, kernel_size = (3, 3), activation='relu'),\n",
        "    Conv2D(filters=64, kernel_size = (3, 3), activation='relu'),\n",
        "    MaxPool2D(),\n",
        "    Dropout(0.3),\n",
        "\n",
        "    Flatten(),\n",
        "    Dense(1024, activation='relu'),\n",
        "    Dropout(0.3),\n",
        "\n",
        "    Dense(num_classes, activation='softmax'),\n",
        "])\n",
        "\n",
        "\n",
        "\n",
        "train_and_predict(get_cnn_v3(input_shape, num_classes))"
      ],
      "execution_count": 0,
      "outputs": [
        {
          "output_type": "stream",
          "text": [
            "Epoch 1/5\n",
            "272/272 [==============================] - 10s 37ms/step - loss: 2.6305 - accuracy: 0.4482 - val_loss: 0.6651 - val_accuracy: 0.8418\n",
            "Epoch 2/5\n",
            "272/272 [==============================] - 10s 35ms/step - loss: 0.8436 - accuracy: 0.7461 - val_loss: 0.2442 - val_accuracy: 0.9409\n",
            "Epoch 3/5\n",
            "272/272 [==============================] - 10s 36ms/step - loss: 0.4433 - accuracy: 0.8652 - val_loss: 0.1228 - val_accuracy: 0.9735\n",
            "Epoch 4/5\n",
            "272/272 [==============================] - 10s 36ms/step - loss: 0.2502 - accuracy: 0.9252 - val_loss: 0.0514 - val_accuracy: 0.9875\n",
            "Epoch 5/5\n",
            "272/272 [==============================] - 10s 36ms/step - loss: 0.1861 - accuracy: 0.9449 - val_loss: 0.0434 - val_accuracy: 0.9895\n"
          ],
          "name": "stdout"
        },
        {
          "output_type": "execute_result",
          "data": {
            "text/plain": [
              "0.9566893424036281"
            ]
          },
          "metadata": {
            "tags": []
          },
          "execution_count": 21
        }
      ]
    },
    {
      "cell_type": "code",
      "metadata": {
        "id": "U06G_4PzXt12",
        "colab_type": "code",
        "outputId": "5b66e1fe-6b8c-47b7-a34a-d975c5d00cc5",
        "colab": {
          "base_uri": "https://localhost:8080/",
          "height": 870
        }
      },
      "source": [
        "def get_cnn_v4(input_shape, num_classes):\n",
        "  return Sequential([\n",
        "    Conv2D(filters=32, kernel_size = (3, 3), activation='relu', input_shape = input_shape),\n",
        "    Conv2D(filters=32, kernel_size = (3, 3), activation='relu', padding = 'same'),\n",
        "    MaxPool2D(),\n",
        "    Dropout(0.3),\n",
        "\n",
        "    Conv2D(filters=64, kernel_size = (3, 3), activation='relu', padding = 'same'),\n",
        "    Conv2D(filters=64, kernel_size = (3, 3), activation='relu'),\n",
        "    MaxPool2D(),\n",
        "    Dropout(0.3),\n",
        "\n",
        "    Conv2D(filters=64, kernel_size = (3, 3), activation='relu', padding = 'same'),\n",
        "    Conv2D(filters=64, kernel_size = (3, 3), activation='relu'),\n",
        "    #MaxPool2D(),\n",
        "    Dropout(0.3),\n",
        "\n",
        "    Flatten(),\n",
        "    Dense(1024, activation='relu'),\n",
        "    Dropout(0.3),\n",
        "\n",
        "    Dense(num_classes, activation='softmax'),\n",
        "])\n",
        "\n",
        "#get_cnn_v4(input_shape, num_classes).summary()\n",
        "\n",
        "#train_and_predict(get_cnn_v4(input_shape, num_classes))"
      ],
      "execution_count": 0,
      "outputs": [
        {
          "output_type": "stream",
          "text": [
            "Model: \"sequential_4\"\n",
            "_________________________________________________________________\n",
            "Layer (type)                 Output Shape              Param #   \n",
            "=================================================================\n",
            "conv2d_8 (Conv2D)            (None, 30, 30, 32)        896       \n",
            "_________________________________________________________________\n",
            "conv2d_9 (Conv2D)            (None, 30, 30, 32)        9248      \n",
            "_________________________________________________________________\n",
            "max_pooling2d_4 (MaxPooling2 (None, 15, 15, 32)        0         \n",
            "_________________________________________________________________\n",
            "dropout_6 (Dropout)          (None, 15, 15, 32)        0         \n",
            "_________________________________________________________________\n",
            "conv2d_10 (Conv2D)           (None, 15, 15, 64)        18496     \n",
            "_________________________________________________________________\n",
            "conv2d_11 (Conv2D)           (None, 13, 13, 64)        36928     \n",
            "_________________________________________________________________\n",
            "max_pooling2d_5 (MaxPooling2 (None, 6, 6, 64)          0         \n",
            "_________________________________________________________________\n",
            "dropout_7 (Dropout)          (None, 6, 6, 64)          0         \n",
            "_________________________________________________________________\n",
            "conv2d_12 (Conv2D)           (None, 6, 6, 64)          36928     \n",
            "_________________________________________________________________\n",
            "conv2d_13 (Conv2D)           (None, 4, 4, 64)          36928     \n",
            "_________________________________________________________________\n",
            "dropout_8 (Dropout)          (None, 4, 4, 64)          0         \n",
            "_________________________________________________________________\n",
            "flatten_4 (Flatten)          (None, 1024)              0         \n",
            "_________________________________________________________________\n",
            "dense_6 (Dense)              (None, 1024)              1049600   \n",
            "_________________________________________________________________\n",
            "dropout_9 (Dropout)          (None, 1024)              0         \n",
            "_________________________________________________________________\n",
            "dense_7 (Dense)              (None, 43)                44075     \n",
            "=================================================================\n",
            "Total params: 1,233,099\n",
            "Trainable params: 1,233,099\n",
            "Non-trainable params: 0\n",
            "_________________________________________________________________\n",
            "Epoch 1/5\n",
            "272/272 [==============================] - 13s 46ms/step - loss: 1.7434 - accuracy: 0.5406 - val_loss: 0.2659 - val_accuracy: 0.9196\n",
            "Epoch 2/5\n",
            "272/272 [==============================] - 12s 44ms/step - loss: 0.3693 - accuracy: 0.8874 - val_loss: 0.1128 - val_accuracy: 0.9710\n",
            "Epoch 3/5\n",
            "272/272 [==============================] - 12s 44ms/step - loss: 0.2044 - accuracy: 0.9386 - val_loss: 0.0402 - val_accuracy: 0.9895\n",
            "Epoch 4/5\n",
            "272/272 [==============================] - 12s 44ms/step - loss: 0.1452 - accuracy: 0.9575 - val_loss: 0.0236 - val_accuracy: 0.9934\n",
            "Epoch 5/5\n",
            "272/272 [==============================] - 12s 44ms/step - loss: 0.1137 - accuracy: 0.9657 - val_loss: 0.0209 - val_accuracy: 0.9941\n"
          ],
          "name": "stdout"
        },
        {
          "output_type": "execute_result",
          "data": {
            "text/plain": [
              "0.9820861678004535"
            ]
          },
          "metadata": {
            "tags": []
          },
          "execution_count": 22
        }
      ]
    },
    {
      "cell_type": "code",
      "metadata": {
        "id": "Tx-5bh_XZm6R",
        "colab_type": "code",
        "outputId": "b2b6c8a5-384a-43d7-9ed6-4c39e975e9d8",
        "colab": {
          "base_uri": "https://localhost:8080/",
          "height": 34
        }
      },
      "source": [
        "X_train[0].shape"
      ],
      "execution_count": 0,
      "outputs": [
        {
          "output_type": "execute_result",
          "data": {
            "text/plain": [
              "(32, 32, 3)"
            ]
          },
          "metadata": {
            "tags": []
          },
          "execution_count": 23
        }
      ]
    },
    {
      "cell_type": "code",
      "metadata": {
        "id": "n0dpj4VoDQlj",
        "colab_type": "code",
        "outputId": "b9eed81c-83b9-4764-84d2-79943c5b0c62",
        "colab": {
          "base_uri": "https://localhost:8080/",
          "height": 283
        }
      },
      "source": [
        "plt.imshow(X_test[500])"
      ],
      "execution_count": 0,
      "outputs": [
        {
          "output_type": "execute_result",
          "data": {
            "text/plain": [
              "<matplotlib.image.AxesImage at 0x7ff8697b6860>"
            ]
          },
          "metadata": {
            "tags": []
          },
          "execution_count": 24
        },
        {
          "output_type": "display_data",
          "data": {
            "image/png": "[encoded data removed]",
            "text/plain": [
              "<Figure size 432x288 with 1 Axes>"
            ]
          },
          "metadata": {
            "tags": []
          }
        }
      ]
    },
    {
      "cell_type": "code",
      "metadata": {
        "id": "Yw7W_1rbZl1L",
        "colab_type": "code",
        "outputId": "4d4bb4a0-fdde-4ee2-aa75-90c39a5b3612",
        "colab": {
          "base_uri": "https://localhost:8080/",
          "height": 283
        }
      },
      "source": [
        "plt.imshow(color.rgb2gray(X_train[0]), cmap = plt.get_cmap('gray'))"
      ],
      "execution_count": 0,
      "outputs": [
        {
          "output_type": "execute_result",
          "data": {
            "text/plain": [
              "<matplotlib.image.AxesImage at 0x7ff8696420b8>"
            ]
          },
          "metadata": {
            "tags": []
          },
          "execution_count": 25
        },
        {
          "output_type": "display_data",
          "data": {
            "image/png": "[encoded data removed]",
            "text/plain": [
              "<Figure size 432x288 with 1 Axes>"
            ]
          },
          "metadata": {
            "tags": []
          }
        }
      ]
    },
    {
      "cell_type": "code",
      "metadata": {
        "id": "VFc-uWHDEQqp",
        "colab_type": "code",
        "colab": {}
      },
      "source": [
        "X_train_gray = color.rgb2gray(X_train).reshape(-1, 32, 32, 1)\n",
        "X_test_gray = color.rgb2gray(X_test).reshape(-1, 32, 32, 1)"
      ],
      "execution_count": 0,
      "outputs": []
    },
    {
      "cell_type": "code",
      "metadata": {
        "id": "ZXtwfUuHaERl",
        "colab_type": "code",
        "outputId": "3c548ef6-9575-4633-f1b5-e79c1f5dee2e",
        "colab": {
          "base_uri": "https://localhost:8080/",
          "height": 224
        }
      },
      "source": [
        "model = get_cnn_v4((32,32,1), num_classes)\n",
        "#model.compile(loss = 'crossenthropy', optimizer = 'Adam', metrics = ['accuracy'])\n",
        "model_trained = train_model(model, X_train_gray, y_train, params_fit = {})\n",
        "predict(model_trained, X_test_gray, y_test) #4 dzień"
      ],
      "execution_count": 0,
      "outputs": [
        {
          "output_type": "stream",
          "text": [
            "Epoch 1/5\n",
            "272/272 [==============================] - 12s 45ms/step - loss: 1.7512 - accuracy: 0.5125 - val_loss: 0.1982 - val_accuracy: 0.9427\n",
            "Epoch 2/5\n",
            "272/272 [==============================] - 12s 44ms/step - loss: 0.2601 - accuracy: 0.9194 - val_loss: 0.0563 - val_accuracy: 0.9856\n",
            "Epoch 3/5\n",
            "272/272 [==============================] - 12s 44ms/step - loss: 0.1393 - accuracy: 0.9577 - val_loss: 0.0391 - val_accuracy: 0.9889\n",
            "Epoch 4/5\n",
            "272/272 [==============================] - 12s 44ms/step - loss: 0.1002 - accuracy: 0.9690 - val_loss: 0.0256 - val_accuracy: 0.9934\n",
            "Epoch 5/5\n",
            "272/272 [==============================] - 12s 44ms/step - loss: 0.0741 - accuracy: 0.9768 - val_loss: 0.0127 - val_accuracy: 0.9964\n"
          ],
          "name": "stdout"
        },
        {
          "output_type": "execute_result",
          "data": {
            "text/plain": [
              "0.9662131519274376"
            ]
          },
          "metadata": {
            "tags": []
          },
          "execution_count": 27
        }
      ]
    },
    {
      "cell_type": "code",
      "metadata": {
        "id": "6yifxr08dee9",
        "colab_type": "code",
        "outputId": "f90a6618-95a1-44a6-ed21-74c39bbbe9ac",
        "colab": {
          "base_uri": "https://localhost:8080/",
          "height": 283
        }
      },
      "source": [
        "plt.imshow(color.rgb2gray(X_train[0]), cmap = plt.get_cmap('gray'))"
      ],
      "execution_count": 0,
      "outputs": [
        {
          "output_type": "execute_result",
          "data": {
            "text/plain": [
              "<matplotlib.image.AxesImage at 0x7ff86358c400>"
            ]
          },
          "metadata": {
            "tags": []
          },
          "execution_count": 28
        },
        {
          "output_type": "display_data",
          "data": {
            "image/png": "[encoded data removed]",
            "text/plain": [
              "<Figure size 432x288 with 1 Axes>"
            ]
          },
          "metadata": {
            "tags": []
          }
        }
      ]
    },
    {
      "cell_type": "code",
      "metadata": {
        "id": "F4ZxrPj4FxgP",
        "colab_type": "code",
        "outputId": "cfa716ea-c689-4f35-b4f1-4d2cb070e672",
        "colab": {
          "base_uri": "https://localhost:8080/",
          "height": 324
        }
      },
      "source": [
        "#%tensorboard --logdir logs"
      ],
      "execution_count": 0,
      "outputs": [
        {
          "output_type": "display_data",
          "data": {
            "text/plain": [
              "Launching TensorBoard..."
            ]
          },
          "metadata": {
            "tags": []
          }
        },
        {
          "output_type": "error",
          "ename": "KeyboardInterrupt",
          "evalue": "ignored",
          "traceback": [
            "\u001b[0;31m---------------------------------------------------------------------------\u001b[0m",
            "\u001b[0;31mKeyboardInterrupt\u001b[0m                         Traceback (most recent call last)",
            "\u001b[0;32m<ipython-input-29-500d84af0c29>\u001b[0m in \u001b[0;36m<module>\u001b[0;34m()\u001b[0m\n\u001b[0;32m----> 1\u001b[0;31m \u001b[0mget_ipython\u001b[0m\u001b[0;34m(\u001b[0m\u001b[0;34m)\u001b[0m\u001b[0;34m.\u001b[0m\u001b[0mmagic\u001b[0m\u001b[0;34m(\u001b[0m\u001b[0;34m'tensorboard --logdir logs'\u001b[0m\u001b[0;34m)\u001b[0m\u001b[0;34m\u001b[0m\u001b[0;34m\u001b[0m\u001b[0m\n\u001b[0m",
            "\u001b[0;32m/usr/local/lib/python3.6/dist-packages/IPython/core/interactiveshell.py\u001b[0m in \u001b[0;36mmagic\u001b[0;34m(self, arg_s)\u001b[0m\n\u001b[1;32m   2158\u001b[0m         \u001b[0mmagic_name\u001b[0m\u001b[0;34m,\u001b[0m \u001b[0m_\u001b[0m\u001b[0;34m,\u001b[0m \u001b[0mmagic_arg_s\u001b[0m \u001b[0;34m=\u001b[0m \u001b[0marg_s\u001b[0m\u001b[0;34m.\u001b[0m\u001b[0mpartition\u001b[0m\u001b[0;34m(\u001b[0m\u001b[0;34m' '\u001b[0m\u001b[0;34m)\u001b[0m\u001b[0;34m\u001b[0m\u001b[0;34m\u001b[0m\u001b[0m\n\u001b[1;32m   2159\u001b[0m         \u001b[0mmagic_name\u001b[0m \u001b[0;34m=\u001b[0m \u001b[0mmagic_name\u001b[0m\u001b[0;34m.\u001b[0m\u001b[0mlstrip\u001b[0m\u001b[0;34m(\u001b[0m\u001b[0mprefilter\u001b[0m\u001b[0;34m.\u001b[0m\u001b[0mESC_MAGIC\u001b[0m\u001b[0;34m)\u001b[0m\u001b[0;34m\u001b[0m\u001b[0;34m\u001b[0m\u001b[0m\n\u001b[0;32m-> 2160\u001b[0;31m         \u001b[0;32mreturn\u001b[0m \u001b[0mself\u001b[0m\u001b[0;34m.\u001b[0m\u001b[0mrun_line_magic\u001b[0m\u001b[0;34m(\u001b[0m\u001b[0mmagic_name\u001b[0m\u001b[0;34m,\u001b[0m \u001b[0mmagic_arg_s\u001b[0m\u001b[0;34m)\u001b[0m\u001b[0;34m\u001b[0m\u001b[0;34m\u001b[0m\u001b[0m\n\u001b[0m\u001b[1;32m   2161\u001b[0m \u001b[0;34m\u001b[0m\u001b[0m\n\u001b[1;32m   2162\u001b[0m     \u001b[0;31m#-------------------------------------------------------------------------\u001b[0m\u001b[0;34m\u001b[0m\u001b[0;34m\u001b[0m\u001b[0;34m\u001b[0m\u001b[0m\n",
            "\u001b[0;32m/usr/local/lib/python3.6/dist-packages/IPython/core/interactiveshell.py\u001b[0m in \u001b[0;36mrun_line_magic\u001b[0;34m(self, magic_name, line)\u001b[0m\n\u001b[1;32m   2079\u001b[0m                 \u001b[0mkwargs\u001b[0m\u001b[0;34m[\u001b[0m\u001b[0;34m'local_ns'\u001b[0m\u001b[0;34m]\u001b[0m \u001b[0;34m=\u001b[0m \u001b[0msys\u001b[0m\u001b[0;34m.\u001b[0m\u001b[0m_getframe\u001b[0m\u001b[0;34m(\u001b[0m\u001b[0mstack_depth\u001b[0m\u001b[0;34m)\u001b[0m\u001b[0;34m.\u001b[0m\u001b[0mf_locals\u001b[0m\u001b[0;34m\u001b[0m\u001b[0;34m\u001b[0m\u001b[0m\n\u001b[1;32m   2080\u001b[0m             \u001b[0;32mwith\u001b[0m \u001b[0mself\u001b[0m\u001b[0;34m.\u001b[0m\u001b[0mbuiltin_trap\u001b[0m\u001b[0;34m:\u001b[0m\u001b[0;34m\u001b[0m\u001b[0;34m\u001b[0m\u001b[0m\n\u001b[0;32m-> 2081\u001b[0;31m                 \u001b[0mresult\u001b[0m \u001b[0;34m=\u001b[0m \u001b[0mfn\u001b[0m\u001b[0;34m(\u001b[0m\u001b[0;34m*\u001b[0m\u001b[0margs\u001b[0m\u001b[0;34m,\u001b[0m\u001b[0;34m**\u001b[0m\u001b[0mkwargs\u001b[0m\u001b[0;34m)\u001b[0m\u001b[0;34m\u001b[0m\u001b[0;34m\u001b[0m\u001b[0m\n\u001b[0m\u001b[1;32m   2082\u001b[0m             \u001b[0;32mreturn\u001b[0m \u001b[0mresult\u001b[0m\u001b[0;34m\u001b[0m\u001b[0;34m\u001b[0m\u001b[0m\n\u001b[1;32m   2083\u001b[0m \u001b[0;34m\u001b[0m\u001b[0m\n",
            "\u001b[0;32m/usr/local/lib/python3.6/dist-packages/tensorboard/notebook.py\u001b[0m in \u001b[0;36m_start_magic\u001b[0;34m(line)\u001b[0m\n\u001b[1;32m    126\u001b[0m \u001b[0;32mdef\u001b[0m \u001b[0m_start_magic\u001b[0m\u001b[0;34m(\u001b[0m\u001b[0mline\u001b[0m\u001b[0;34m)\u001b[0m\u001b[0;34m:\u001b[0m\u001b[0;34m\u001b[0m\u001b[0;34m\u001b[0m\u001b[0m\n\u001b[1;32m    127\u001b[0m     \u001b[0;34m\"\"\"Implementation of the `%tensorboard` line magic.\"\"\"\u001b[0m\u001b[0;34m\u001b[0m\u001b[0;34m\u001b[0m\u001b[0m\n\u001b[0;32m--> 128\u001b[0;31m     \u001b[0;32mreturn\u001b[0m \u001b[0mstart\u001b[0m\u001b[0;34m(\u001b[0m\u001b[0mline\u001b[0m\u001b[0;34m)\u001b[0m\u001b[0;34m\u001b[0m\u001b[0;34m\u001b[0m\u001b[0m\n\u001b[0m\u001b[1;32m    129\u001b[0m \u001b[0;34m\u001b[0m\u001b[0m\n\u001b[1;32m    130\u001b[0m \u001b[0;34m\u001b[0m\u001b[0m\n",
            "\u001b[0;32m/usr/local/lib/python3.6/dist-packages/tensorboard/notebook.py\u001b[0m in \u001b[0;36mstart\u001b[0;34m(args_string)\u001b[0m\n\u001b[1;32m    160\u001b[0m \u001b[0;34m\u001b[0m\u001b[0m\n\u001b[1;32m    161\u001b[0m     \u001b[0mparsed_args\u001b[0m \u001b[0;34m=\u001b[0m \u001b[0mshlex\u001b[0m\u001b[0;34m.\u001b[0m\u001b[0msplit\u001b[0m\u001b[0;34m(\u001b[0m\u001b[0margs_string\u001b[0m\u001b[0;34m,\u001b[0m \u001b[0mcomments\u001b[0m\u001b[0;34m=\u001b[0m\u001b[0;32mTrue\u001b[0m\u001b[0;34m,\u001b[0m \u001b[0mposix\u001b[0m\u001b[0;34m=\u001b[0m\u001b[0;32mTrue\u001b[0m\u001b[0;34m)\u001b[0m\u001b[0;34m\u001b[0m\u001b[0;34m\u001b[0m\u001b[0m\n\u001b[0;32m--> 162\u001b[0;31m     \u001b[0mstart_result\u001b[0m \u001b[0;34m=\u001b[0m \u001b[0mmanager\u001b[0m\u001b[0;34m.\u001b[0m\u001b[0mstart\u001b[0m\u001b[0;34m(\u001b[0m\u001b[0mparsed_args\u001b[0m\u001b[0;34m)\u001b[0m\u001b[0;34m\u001b[0m\u001b[0;34m\u001b[0m\u001b[0m\n\u001b[0m\u001b[1;32m    163\u001b[0m \u001b[0;34m\u001b[0m\u001b[0m\n\u001b[1;32m    164\u001b[0m     \u001b[0;32mif\u001b[0m \u001b[0misinstance\u001b[0m\u001b[0;34m(\u001b[0m\u001b[0mstart_result\u001b[0m\u001b[0;34m,\u001b[0m \u001b[0mmanager\u001b[0m\u001b[0;34m.\u001b[0m\u001b[0mStartLaunched\u001b[0m\u001b[0;34m)\u001b[0m\u001b[0;34m:\u001b[0m\u001b[0;34m\u001b[0m\u001b[0;34m\u001b[0m\u001b[0m\n",
            "\u001b[0;32m/usr/local/lib/python3.6/dist-packages/tensorboard/manager.py\u001b[0m in \u001b[0;36mstart\u001b[0;34m(arguments, timeout)\u001b[0m\n\u001b[1;32m    423\u001b[0m     \u001b[0mend_time_seconds\u001b[0m \u001b[0;34m=\u001b[0m \u001b[0mstart_time_seconds\u001b[0m \u001b[0;34m+\u001b[0m \u001b[0mtimeout\u001b[0m\u001b[0;34m.\u001b[0m\u001b[0mtotal_seconds\u001b[0m\u001b[0;34m(\u001b[0m\u001b[0;34m)\u001b[0m\u001b[0;34m\u001b[0m\u001b[0;34m\u001b[0m\u001b[0m\n\u001b[1;32m    424\u001b[0m     \u001b[0;32mwhile\u001b[0m \u001b[0mtime\u001b[0m\u001b[0;34m.\u001b[0m\u001b[0mtime\u001b[0m\u001b[0;34m(\u001b[0m\u001b[0;34m)\u001b[0m \u001b[0;34m<\u001b[0m \u001b[0mend_time_seconds\u001b[0m\u001b[0;34m:\u001b[0m\u001b[0;34m\u001b[0m\u001b[0;34m\u001b[0m\u001b[0m\n\u001b[0;32m--> 425\u001b[0;31m         \u001b[0mtime\u001b[0m\u001b[0;34m.\u001b[0m\u001b[0msleep\u001b[0m\u001b[0;34m(\u001b[0m\u001b[0mpoll_interval_seconds\u001b[0m\u001b[0;34m)\u001b[0m\u001b[0;34m\u001b[0m\u001b[0;34m\u001b[0m\u001b[0m\n\u001b[0m\u001b[1;32m    426\u001b[0m         \u001b[0msubprocess_result\u001b[0m \u001b[0;34m=\u001b[0m \u001b[0mp\u001b[0m\u001b[0;34m.\u001b[0m\u001b[0mpoll\u001b[0m\u001b[0;34m(\u001b[0m\u001b[0;34m)\u001b[0m\u001b[0;34m\u001b[0m\u001b[0;34m\u001b[0m\u001b[0m\n\u001b[1;32m    427\u001b[0m         \u001b[0;32mif\u001b[0m \u001b[0msubprocess_result\u001b[0m \u001b[0;32mis\u001b[0m \u001b[0;32mnot\u001b[0m \u001b[0;32mNone\u001b[0m\u001b[0;34m:\u001b[0m\u001b[0;34m\u001b[0m\u001b[0;34m\u001b[0m\u001b[0m\n",
            "\u001b[0;31mKeyboardInterrupt\u001b[0m: "
          ]
        }
      ]
    },
    {
      "cell_type": "code",
      "metadata": {
        "id": "OrtJ0sBvL5fu",
        "colab_type": "code",
        "colab": {}
      },
      "source": [
        "# model = get_cnn_v2(input_shape, num_classes)\n",
        "# params_fit = {\n",
        "#     'epochs': 25\n",
        "# }\n",
        "# train_model(model, X_train, y_train, params_fit)"
      ],
      "execution_count": 0,
      "outputs": []
    },
    {
      "cell_type": "code",
      "metadata": {
        "id": "mgSiNjOKNXFA",
        "colab_type": "code",
        "colab": {}
      },
      "source": [
        "# %tensorboard --logdir logs"
      ],
      "execution_count": 0,
      "outputs": []
    },
    {
      "cell_type": "code",
      "metadata": {
        "id": "ACHD-iSoWVCR",
        "colab_type": "code",
        "outputId": "eae8ea72-215e-4ec5-a55f-55f16968625e",
        "colab": {
          "base_uri": "https://localhost:8080/",
          "height": 224
        }
      },
      "source": [
        "model = get_cnn_v4(input_shape, num_classes)\n",
        "model_trained = train_model(model, X_train, y_train, params_fit = {})\n",
        "\n",
        "predict(model_trained, X_test, y_test)"
      ],
      "execution_count": 0,
      "outputs": [
        {
          "output_type": "stream",
          "text": [
            "Epoch 1/5\n",
            "272/272 [==============================] - 12s 45ms/step - loss: 2.3022 - accuracy: 0.3907 - val_loss: 0.5756 - val_accuracy: 0.8533\n",
            "Epoch 2/5\n",
            "272/272 [==============================] - 12s 43ms/step - loss: 0.5836 - accuracy: 0.8207 - val_loss: 0.1424 - val_accuracy: 0.9637\n",
            "Epoch 3/5\n",
            "272/272 [==============================] - 12s 44ms/step - loss: 0.2796 - accuracy: 0.9147 - val_loss: 0.0708 - val_accuracy: 0.9824\n",
            "Epoch 4/5\n",
            "272/272 [==============================] - 12s 44ms/step - loss: 0.1811 - accuracy: 0.9447 - val_loss: 0.0285 - val_accuracy: 0.9920\n",
            "Epoch 5/5\n",
            "272/272 [==============================] - 12s 44ms/step - loss: 0.1265 - accuracy: 0.9620 - val_loss: 0.0247 - val_accuracy: 0.9941\n"
          ],
          "name": "stdout"
        },
        {
          "output_type": "execute_result",
          "data": {
            "text/plain": [
              "0.973015873015873"
            ]
          },
          "metadata": {
            "tags": []
          },
          "execution_count": 31
        }
      ]
    },
    {
      "cell_type": "code",
      "metadata": {
        "id": "4ObU8XDPecBd",
        "colab_type": "code",
        "colab": {}
      },
      "source": [
        "def get_model(params):\n",
        "  return Sequential([\n",
        "    Conv2D(filters=32, kernel_size = (3, 3), activation='relu', input_shape = input_shape),\n",
        "    Conv2D(filters=32, kernel_size = (3, 3), activation='relu', padding = 'same'),\n",
        "    MaxPool2D(),\n",
        "    Dropout(params['dropout_cnn_block_one']),\n",
        "\n",
        "    Conv2D(filters=64, kernel_size = (3, 3), activation='relu', padding = 'same'),\n",
        "    Conv2D(filters=64, kernel_size = (3, 3), activation='relu'),\n",
        "    MaxPool2D(),\n",
        "    Dropout(params['dropout_cnn_block_two']),\n",
        "\n",
        "    Conv2D(filters=128, kernel_size = (3, 3), activation='relu', padding = 'same'),\n",
        "    Conv2D(filters=128, kernel_size = (3, 3), activation='relu'),\n",
        "    #MaxPool2D(),\n",
        "    Dropout(params['dropout_cnn_block_three']),\n",
        "\n",
        "    Flatten(),\n",
        "    Dense(1024, activation='relu'),\n",
        "    Dropout(params['dropout_cnn_dense_one']),\n",
        "\n",
        "    Dense(1024, activation='relu'),\n",
        "    Dropout(params['dropout_cnn_dense_two']),\n",
        "\n",
        "    Dense(num_classes, activation='softmax'),\n",
        "])"
      ],
      "execution_count": 0,
      "outputs": []
    },
    {
      "cell_type": "code",
      "metadata": {
        "id": "8OL9DZqMa12G",
        "colab_type": "code",
        "outputId": "360b263c-9626-4087-9b5f-a6ada272268e",
        "colab": {
          "base_uri": "https://localhost:8080/",
          "height": 34
        }
      },
      "source": [
        "def func_obj(params):\n",
        "\n",
        "  model = get_model(params)\n",
        "  model.compile(loss = 'categorical_crossentropy', optimizer = 'Adam', metrics = ['accuracy'])\n",
        "\n",
        "  model.fit(\n",
        "      X_train, \n",
        "      y_train,\n",
        "      batch_size = 128, #int(params.get('batch_size', 128)),\n",
        "      epochs = 5,\n",
        "      verbose = 0\n",
        "  )\n",
        "  score = model.evaluate(X_test, y_test, verbose = 0)\n",
        "  accuracy = score[1]\n",
        "  print(params, 'accuracy={}'.format(accuracy))\n",
        "\n",
        "  return {'loss': -accuracy, 'status': STATUS_OK, 'model': model}"
      ],
      "execution_count": 0,
      "outputs": [
        {
          "output_type": "stream",
          "text": [
            "ERROR! Session/line number was not unique in database. History logging moved to new session 71\n"
          ],
          "name": "stdout"
        }
      ]
    },
    {
      "cell_type": "code",
      "metadata": {
        "id": "TvCcslHibQ_Y",
        "colab_type": "code",
        "outputId": "7dba4097-b2e6-485c-9237-8506f01a6224",
        "colab": {
          "base_uri": "https://localhost:8080/",
          "height": 1000
        }
      },
      "source": [
        "space ={\n",
        "    'batch_size': hp.quniform('batch_size', 50, 200, 20),\n",
        "    'dropout_cnn_block_one': 0.5, #hp.uniform('dropout_cnn_block_one', 0, 1),\n",
        "    'dropout_cnn_block_two': 0.5, #hp.uniform('dropout_cnn_block_two', 0, 1),\n",
        "    'dropout_cnn_block_three': 0.5, #hp.uniform('dropout_cnn_block_three', 0, 1),\n",
        "\n",
        "    'dropout_cnn_dense_one': 0.5, #hp.uniform('dropout_cnn_dense_one', 0, 1),\n",
        "    'dropout_cnn_dense_two': 0.5 #hp.uniform('dropout_cnn_dense_two', 0, 1)\n",
        "}\n",
        "best = fmin(\n",
        "    func_obj,\n",
        "    space,\n",
        "    tpe.suggest,\n",
        "    30,\n",
        "    Trials()\n",
        ")"
      ],
      "execution_count": 0,
      "outputs": [
        {
          "output_type": "stream",
          "text": [
            "{'batch_size': 160.0, 'dropout_cnn_block_one': 0.5, 'dropout_cnn_block_three': 0.5, 'dropout_cnn_block_two': 0.5, 'dropout_cnn_dense_one': 0.5, 'dropout_cnn_dense_two': 0.5}\n",
            "accuracy=0.9553288221359253\n",
            "{'batch_size': 140.0, 'dropout_cnn_block_one': 0.5, 'dropout_cnn_block_three': 0.5, 'dropout_cnn_block_two': 0.5, 'dropout_cnn_dense_one': 0.5, 'dropout_cnn_dense_two': 0.5}\n",
            "accuracy=0.9362812042236328\n",
            "{'batch_size': 180.0, 'dropout_cnn_block_one': 0.5, 'dropout_cnn_block_three': 0.5, 'dropout_cnn_block_two': 0.5, 'dropout_cnn_dense_one': 0.5, 'dropout_cnn_dense_two': 0.5}\n",
            "accuracy=0.9315192699432373\n",
            "{'batch_size': 100.0, 'dropout_cnn_block_one': 0.5, 'dropout_cnn_block_three': 0.5, 'dropout_cnn_block_two': 0.5, 'dropout_cnn_dense_one': 0.5, 'dropout_cnn_dense_two': 0.5}\n",
            "accuracy=0.8467119932174683\n",
            "{'batch_size': 100.0, 'dropout_cnn_block_one': 0.5, 'dropout_cnn_block_three': 0.5, 'dropout_cnn_block_two': 0.5, 'dropout_cnn_dense_one': 0.5, 'dropout_cnn_dense_two': 0.5}\n",
            "accuracy=0.9462584853172302\n",
            "{'batch_size': 180.0, 'dropout_cnn_block_one': 0.5, 'dropout_cnn_block_three': 0.5, 'dropout_cnn_block_two': 0.5, 'dropout_cnn_dense_one': 0.5, 'dropout_cnn_dense_two': 0.5}\n",
            "accuracy=0.9108843803405762\n",
            "{'batch_size': 60.0, 'dropout_cnn_block_one': 0.5, 'dropout_cnn_block_three': 0.5, 'dropout_cnn_block_two': 0.5, 'dropout_cnn_dense_one': 0.5, 'dropout_cnn_dense_two': 0.5}\n",
            "accuracy=0.8897958993911743\n",
            "{'batch_size': 60.0, 'dropout_cnn_block_one': 0.5, 'dropout_cnn_block_three': 0.5, 'dropout_cnn_block_two': 0.5, 'dropout_cnn_dense_one': 0.5, 'dropout_cnn_dense_two': 0.5}\n",
            "accuracy=0.9240362644195557\n",
            "{'batch_size': 200.0, 'dropout_cnn_block_one': 0.5, 'dropout_cnn_block_three': 0.5, 'dropout_cnn_block_two': 0.5, 'dropout_cnn_dense_one': 0.5, 'dropout_cnn_dense_two': 0.5}\n",
            "accuracy=0.956462562084198\n",
            "{'batch_size': 160.0, 'dropout_cnn_block_one': 0.5, 'dropout_cnn_block_three': 0.5, 'dropout_cnn_block_two': 0.5, 'dropout_cnn_dense_one': 0.5, 'dropout_cnn_dense_two': 0.5}\n",
            "accuracy=0.8759637475013733\n",
            "{'batch_size': 100.0, 'dropout_cnn_block_one': 0.5, 'dropout_cnn_block_three': 0.5, 'dropout_cnn_block_two': 0.5, 'dropout_cnn_dense_one': 0.5, 'dropout_cnn_dense_two': 0.5}\n",
            "accuracy=0.9120181202888489\n",
            "{'batch_size': 160.0, 'dropout_cnn_block_one': 0.5, 'dropout_cnn_block_three': 0.5, 'dropout_cnn_block_two': 0.5, 'dropout_cnn_dense_one': 0.5, 'dropout_cnn_dense_two': 0.5}\n",
            "accuracy=0.9097505807876587\n",
            "{'batch_size': 140.0, 'dropout_cnn_block_one': 0.5, 'dropout_cnn_block_three': 0.5, 'dropout_cnn_block_two': 0.5, 'dropout_cnn_dense_one': 0.5, 'dropout_cnn_dense_two': 0.5}\n",
            "accuracy=0.8732426166534424\n",
            "{'batch_size': 80.0, 'dropout_cnn_block_one': 0.5, 'dropout_cnn_block_three': 0.5, 'dropout_cnn_block_two': 0.5, 'dropout_cnn_dense_one': 0.5, 'dropout_cnn_dense_two': 0.5}\n",
            "accuracy=0.9521542191505432\n",
            "{'batch_size': 160.0, 'dropout_cnn_block_one': 0.5, 'dropout_cnn_block_three': 0.5, 'dropout_cnn_block_two': 0.5, 'dropout_cnn_dense_one': 0.5, 'dropout_cnn_dense_two': 0.5}\n",
            "accuracy=0.9294784665107727\n",
            "{'batch_size': 60.0, 'dropout_cnn_block_one': 0.5, 'dropout_cnn_block_three': 0.5, 'dropout_cnn_block_two': 0.5, 'dropout_cnn_dense_one': 0.5, 'dropout_cnn_dense_two': 0.5}\n",
            "accuracy=0.8399093151092529\n",
            "{'batch_size': 180.0, 'dropout_cnn_block_one': 0.5, 'dropout_cnn_block_three': 0.5, 'dropout_cnn_block_two': 0.5, 'dropout_cnn_dense_one': 0.5, 'dropout_cnn_dense_two': 0.5}\n",
            "accuracy=0.9356009364128113\n",
            "{'batch_size': 180.0, 'dropout_cnn_block_one': 0.5, 'dropout_cnn_block_three': 0.5, 'dropout_cnn_block_two': 0.5, 'dropout_cnn_dense_one': 0.5, 'dropout_cnn_dense_two': 0.5}\n",
            "accuracy=0.7539682388305664\n",
            "{'batch_size': 180.0, 'dropout_cnn_block_one': 0.5, 'dropout_cnn_block_three': 0.5, 'dropout_cnn_block_two': 0.5, 'dropout_cnn_dense_one': 0.5, 'dropout_cnn_dense_two': 0.5}\n",
            "accuracy=0.8850340247154236\n",
            "{'batch_size': 80.0, 'dropout_cnn_block_one': 0.5, 'dropout_cnn_block_three': 0.5, 'dropout_cnn_block_two': 0.5, 'dropout_cnn_dense_one': 0.5, 'dropout_cnn_dense_two': 0.5}\n",
            "accuracy=0.9185941219329834\n",
            "{'batch_size': 200.0, 'dropout_cnn_block_one': 0.5, 'dropout_cnn_block_three': 0.5, 'dropout_cnn_block_two': 0.5, 'dropout_cnn_dense_one': 0.5, 'dropout_cnn_dense_two': 0.5}\n",
            "accuracy=0.9068027138710022\n",
            "{'batch_size': 200.0, 'dropout_cnn_block_one': 0.5, 'dropout_cnn_block_three': 0.5, 'dropout_cnn_block_two': 0.5, 'dropout_cnn_dense_one': 0.5, 'dropout_cnn_dense_two': 0.5}\n",
            "accuracy=0.9167800545692444\n",
            "{'batch_size': 140.0, 'dropout_cnn_block_one': 0.5, 'dropout_cnn_block_three': 0.5, 'dropout_cnn_block_two': 0.5, 'dropout_cnn_dense_one': 0.5, 'dropout_cnn_dense_two': 0.5}\n",
            "accuracy=0.9294784665107727\n",
            "{'batch_size': 200.0, 'dropout_cnn_block_one': 0.5, 'dropout_cnn_block_three': 0.5, 'dropout_cnn_block_two': 0.5, 'dropout_cnn_dense_one': 0.5, 'dropout_cnn_dense_two': 0.5}\n",
            "accuracy=0.9532879590988159\n",
            "{'batch_size': 120.0, 'dropout_cnn_block_one': 0.5, 'dropout_cnn_block_three': 0.5, 'dropout_cnn_block_two': 0.5, 'dropout_cnn_dense_one': 0.5, 'dropout_cnn_dense_two': 0.5}\n",
            "accuracy=0.8975056409835815\n",
            "{'batch_size': 160.0, 'dropout_cnn_block_one': 0.5, 'dropout_cnn_block_three': 0.5, 'dropout_cnn_block_two': 0.5, 'dropout_cnn_dense_one': 0.5, 'dropout_cnn_dense_two': 0.5}\n",
            "accuracy=0.920634925365448\n",
            "{'batch_size': 120.0, 'dropout_cnn_block_one': 0.5, 'dropout_cnn_block_three': 0.5, 'dropout_cnn_block_two': 0.5, 'dropout_cnn_dense_one': 0.5, 'dropout_cnn_dense_two': 0.5}\n",
            "accuracy=0.8464852571487427\n",
            "{'batch_size': 200.0, 'dropout_cnn_block_one': 0.5, 'dropout_cnn_block_three': 0.5, 'dropout_cnn_block_two': 0.5, 'dropout_cnn_dense_one': 0.5, 'dropout_cnn_dense_two': 0.5}\n",
            "accuracy=0.8435373902320862\n",
            "{'batch_size': 140.0, 'dropout_cnn_block_one': 0.5, 'dropout_cnn_block_three': 0.5, 'dropout_cnn_block_two': 0.5, 'dropout_cnn_dense_one': 0.5, 'dropout_cnn_dense_two': 0.5}\n",
            "accuracy=0.8950113654136658\n",
            "{'batch_size': 140.0, 'dropout_cnn_block_one': 0.5, 'dropout_cnn_block_three': 0.5, 'dropout_cnn_block_two': 0.5, 'dropout_cnn_dense_one': 0.5, 'dropout_cnn_dense_two': 0.5}\n",
            "accuracy=0.9147392511367798\n",
            "100%|██████████| 30/30 [24:05<00:00, 48.18s/it, best loss: -0.956462562084198]\n"
          ],
          "name": "stdout"
        }
      ]
    },
    {
      "cell_type": "code",
      "metadata": {
        "id": "sxgfgoBncipI",
        "colab_type": "code",
        "colab": {}
      },
      "source": [
        ""
      ],
      "execution_count": 0,
      "outputs": []
    }
  ]
}
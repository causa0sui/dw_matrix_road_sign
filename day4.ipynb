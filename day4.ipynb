{
  "nbformat": 4,
  "nbformat_minor": 0,
  "metadata": {
    "colab": {
      "name": "day4.ipynb",
      "provenance": [],
      "mount_file_id": "1OZvp7bzLEM8pYu-AZ2agnug9HT3MGwJw",
      "authorship_tag": "ABX9TyMnHejOgJz7RmQeGvSsyF9n",
      "include_colab_link": true
    },
    "kernelspec": {
      "name": "python3",
      "display_name": "Python 3"
    },
    "accelerator": "GPU"
  },
  "cells": [
    {
      "cell_type": "markdown",
      "metadata": {
        "id": "view-in-github",
        "colab_type": "text"
      },
      "source": [
        "<a href=\"https://colab.research.google.com/github/causa0sui/dw_matrix_road_sign/blob/master/day4.ipynb\" target=\"_parent\"><img src=\"https://colab.research.google.com/assets/colab-badge.svg\" alt=\"Open In Colab\"/></a>"
      ]
    },
    {
      "cell_type": "code",
      "metadata": {
        "id": "5WYivMlwf3Oc",
        "colab_type": "code",
        "colab": {}
      },
      "source": [
        "import pandas as pd\n",
        "import numpy as np\n",
        "import datetime\n",
        "import os\n",
        "\n",
        "import tensorflow as tf\n",
        "from tensorflow.keras.models import Sequential\n",
        "from tensorflow.keras.layers import Conv2D, MaxPool2D, Dense, Flatten, Dropout\n",
        "from tensorflow.keras.utils import to_categorical\n",
        "\n",
        "import matplotlib.pyplot as plt\n",
        "from skimage import color, exposure\n",
        "\n",
        "from sklearn.metrics import accuracy_score\n",
        "\n",
        "%load_ext tensorboard"
      ],
      "execution_count": 0,
      "outputs": []
    },
    {
      "cell_type": "code",
      "metadata": {
        "id": "fealuLJ6gpNH",
        "colab_type": "code",
        "outputId": "4e8a987b-f006-49df-88fd-c1dea9bd0733",
        "colab": {
          "base_uri": "https://localhost:8080/",
          "height": 34
        }
      },
      "source": [
        "cd '/content/drive/My Drive/Colab Notebooks/matrix/matrix_three/dw_matrix_road_sign'"
      ],
      "execution_count": 0,
      "outputs": [
        {
          "output_type": "stream",
          "text": [
            "/content/drive/My Drive/Colab Notebooks/matrix/matrix_three/dw_matrix_road_sign\n"
          ],
          "name": "stdout"
        }
      ]
    },
    {
      "cell_type": "code",
      "metadata": {
        "id": "irCXFLfmg2wT",
        "colab_type": "code",
        "colab": {}
      },
      "source": [
        "train = pd.read_pickle(\"data/train.p\")\n",
        "test = pd.read_pickle(\"data/test.p\")\n",
        "\n",
        "X_train, y_train = train[\"features\"], train[\"labels\"]\n",
        "X_test, y_test = test[\"features\"], test[\"labels\"]"
      ],
      "execution_count": 0,
      "outputs": []
    },
    {
      "cell_type": "code",
      "metadata": {
        "id": "7biFbykGjx9G",
        "colab_type": "code",
        "outputId": "9a942052-8702-46ae-8f10-68b26aff043f",
        "colab": {
          "base_uri": "https://localhost:8080/",
          "height": 34
        }
      },
      "source": [
        " y_train"
      ],
      "execution_count": 0,
      "outputs": [
        {
          "output_type": "execute_result",
          "data": {
            "text/plain": [
              "array([41, 41, 41, ..., 25, 25, 25], dtype=uint8)"
            ]
          },
          "metadata": {
            "tags": []
          },
          "execution_count": 5
        }
      ]
    },
    {
      "cell_type": "code",
      "metadata": {
        "id": "n3KSeUaVj6tL",
        "colab_type": "code",
        "outputId": "1a910d2b-542c-4cb6-f2d5-11794992cefd",
        "colab": {
          "base_uri": "https://localhost:8080/",
          "height": 34
        }
      },
      "source": [
        "len(np.unique(y_train))"
      ],
      "execution_count": 0,
      "outputs": [
        {
          "output_type": "execute_result",
          "data": {
            "text/plain": [
              "43"
            ]
          },
          "metadata": {
            "tags": []
          },
          "execution_count": 6
        }
      ]
    },
    {
      "cell_type": "code",
      "metadata": {
        "id": "5XNr_Ty2kAn3",
        "colab_type": "code",
        "outputId": "b4ed4c9f-3115-4b78-c8e9-715188a219a4",
        "colab": {
          "base_uri": "https://localhost:8080/",
          "height": 68
        }
      },
      "source": [
        "to_categorical(y_train)[-1]"
      ],
      "execution_count": 0,
      "outputs": [
        {
          "output_type": "execute_result",
          "data": {
            "text/plain": [
              "array([0., 0., 0., 0., 0., 0., 0., 0., 0., 0., 0., 0., 0., 0., 0., 0., 0.,\n",
              "       0., 0., 0., 0., 0., 0., 0., 0., 1., 0., 0., 0., 0., 0., 0., 0., 0.,\n",
              "       0., 0., 0., 0., 0., 0., 0., 0., 0.], dtype=float32)"
            ]
          },
          "metadata": {
            "tags": []
          },
          "execution_count": 7
        }
      ]
    },
    {
      "cell_type": "code",
      "metadata": {
        "id": "vmPFo3FokOOf",
        "colab_type": "code",
        "outputId": "bc64867d-66a7-4b94-f74e-a9ce44132b74",
        "colab": {
          "base_uri": "https://localhost:8080/",
          "height": 68
        }
      },
      "source": [
        " np.unique(y_train)"
      ],
      "execution_count": 0,
      "outputs": [
        {
          "output_type": "execute_result",
          "data": {
            "text/plain": [
              "array([ 0,  1,  2,  3,  4,  5,  6,  7,  8,  9, 10, 11, 12, 13, 14, 15, 16,\n",
              "       17, 18, 19, 20, 21, 22, 23, 24, 25, 26, 27, 28, 29, 30, 31, 32, 33,\n",
              "       34, 35, 36, 37, 38, 39, 40, 41, 42], dtype=uint8)"
            ]
          },
          "metadata": {
            "tags": []
          },
          "execution_count": 8
        }
      ]
    },
    {
      "cell_type": "code",
      "metadata": {
        "id": "rJvHErFJqAsm",
        "colab_type": "code",
        "colab": {}
      },
      "source": [
        "if y_train.ndim == 1: y_train = to_categorical(y_train)\n",
        "if y_test.ndim == 1: y_test = to_categorical(y_test)"
      ],
      "execution_count": 0,
      "outputs": []
    },
    {
      "cell_type": "code",
      "metadata": {
        "id": "Ze8II0rqBZvE",
        "colab_type": "code",
        "colab": {}
      },
      "source": [
        " input_shape = X_train.shape[1:]\n",
        " num_classes = y_train.shape[1]"
      ],
      "execution_count": 0,
      "outputs": []
    },
    {
      "cell_type": "code",
      "metadata": {
        "id": "pwxamkxBBiil",
        "colab_type": "code",
        "colab": {}
      },
      "source": [
        "model = Sequential([\n",
        "    Conv2D(filters=64, kernel_size = (3, 3), activation='relu', input_shape = input_shape),\n",
        "\n",
        "    Flatten(),\n",
        "\n",
        "    Dense(num_classes, activation='softmax'),\n",
        "])"
      ],
      "execution_count": 0,
      "outputs": []
    },
    {
      "cell_type": "code",
      "metadata": {
        "id": "hM8udut3DQs9",
        "colab_type": "code",
        "outputId": "d28c6cd0-7393-4eef-dd3f-9c1ef675833b",
        "colab": {
          "base_uri": "https://localhost:8080/",
          "height": 51
        }
      },
      "source": [
        "#model.summary()\n",
        "\n",
        "model.compile(loss = 'categorical_crossentropy', optimizer='Adam', metrics=['accuracy'])\n",
        "model.fit(X_train, y_train)"
      ],
      "execution_count": 0,
      "outputs": [
        {
          "output_type": "stream",
          "text": [
            "1088/1088 [==============================] - 5s 5ms/step - loss: 10.0776 - accuracy: 0.7862\n"
          ],
          "name": "stdout"
        },
        {
          "output_type": "execute_result",
          "data": {
            "text/plain": [
              "<tensorflow.python.keras.callbacks.History at 0x7fc5900ad7b8>"
            ]
          },
          "metadata": {
            "tags": []
          },
          "execution_count": 12
        }
      ]
    },
    {
      "cell_type": "code",
      "metadata": {
        "id": "3VLbEcNtD5NN",
        "colab_type": "code",
        "colab": {}
      },
      "source": [
        "def get_cnn_v1(input_shape, num_classes):\n",
        "  return Sequential([\n",
        "    Conv2D(filters=64, kernel_size = (3, 3), activation='relu', input_shape = input_shape),\n",
        "\n",
        "    Flatten(),\n",
        "\n",
        "    Dense(num_classes, activation='softmax'),\n",
        "])\n",
        "\n",
        "\n",
        "def train_model(model, X_train, y_train, params_fit={}):\n",
        "  model.compile(loss = 'categorical_crossentropy', optimizer='Adam', metrics=['accuracy'])\n",
        "\n",
        "  logdir = os.path.join('logs', datetime.datetime.now().strftime(\"%Y%m%d-%H%M%S\"))\n",
        "  tensorboard_callback = tf.keras.callbacks.TensorBoard(logdir, histogram_freq=1)\n",
        "\n",
        "  model.fit(\n",
        "      X_train, \n",
        "      y_train,\n",
        "      batch_size = params_fit.get('batch_size', 128),\n",
        "      epochs = params_fit.get('epochs', 5),\n",
        "      verbose = params_fit.get('verbose', 1),\n",
        "      validation_data = params_fit.get('validation_data', (X_train, y_train)),\n",
        "      callbacks = [tensorboard_callback]\n",
        "      )\n",
        "  return model"
      ],
      "execution_count": 0,
      "outputs": []
    },
    {
      "cell_type": "code",
      "metadata": {
        "id": "zpnXTUisFksL",
        "colab_type": "code",
        "outputId": "314a3a28-3e6f-4896-e133-e60a9eed7b92",
        "colab": {
          "base_uri": "https://localhost:8080/",
          "height": 207
        }
      },
      "source": [
        "model = get_cnn_v1(input_shape, num_classes)\n",
        "model_trained = train_model(model, X_train, y_train)"
      ],
      "execution_count": 0,
      "outputs": [
        {
          "output_type": "stream",
          "text": [
            "Epoch 1/5\n",
            "272/272 [==============================] - 5s 17ms/step - loss: 24.8117 - accuracy: 0.7470 - val_loss: 0.2518 - val_accuracy: 0.9486\n",
            "Epoch 2/5\n",
            "272/272 [==============================] - 5s 17ms/step - loss: 0.2367 - accuracy: 0.9452 - val_loss: 0.2202 - val_accuracy: 0.9476\n",
            "Epoch 3/5\n",
            "272/272 [==============================] - 5s 17ms/step - loss: 0.1450 - accuracy: 0.9668 - val_loss: 0.1126 - val_accuracy: 0.9724\n",
            "Epoch 4/5\n",
            "272/272 [==============================] - 5s 17ms/step - loss: 0.1464 - accuracy: 0.9674 - val_loss: 0.1100 - val_accuracy: 0.9765\n",
            "Epoch 5/5\n",
            "272/272 [==============================] - 5s 17ms/step - loss: 0.1184 - accuracy: 0.9734 - val_loss: 0.0821 - val_accuracy: 0.9828\n"
          ],
          "name": "stdout"
        }
      ]
    },
    {
      "cell_type": "code",
      "metadata": {
        "id": "Us2xCbm7FaPG",
        "colab_type": "code",
        "colab": {}
      },
      "source": [
        "df = pd.read_csv(\"data/signnames.csv\")\n",
        "labels_dict = df.to_dict()['b']\n"
      ],
      "execution_count": 0,
      "outputs": []
    },
    {
      "cell_type": "code",
      "metadata": {
        "id": "UlY9iKAJDQ1o",
        "colab_type": "code",
        "colab": {}
      },
      "source": [
        "def predict(model_trained, X_test, y_test, scoring = accuracy_score):\n",
        "\n",
        "  y_test_norm = np.argmax(y_test, axis = 1)\n",
        "\n",
        "  y_pred_prob = model_trained.predict(X_test)\n",
        "  y_pred = np.argmax(y_pred_prob, axis = 1)\n",
        "\n",
        "  return scoring(y_test_norm, y_pred)\n"
      ],
      "execution_count": 0,
      "outputs": []
    },
    {
      "cell_type": "code",
      "metadata": {
        "id": "ntwJfG5uSQS5",
        "colab_type": "code",
        "outputId": "22bf986e-2495-49b8-e981-5932a5456fe9",
        "colab": {
          "base_uri": "https://localhost:8080/",
          "height": 34
        }
      },
      "source": [
        "predict(model_trained, X_test, y_test)"
      ],
      "execution_count": 0,
      "outputs": [
        {
          "output_type": "execute_result",
          "data": {
            "text/plain": [
              "0.8303854875283446"
            ]
          },
          "metadata": {
            "tags": []
          },
          "execution_count": 26
        }
      ]
    },
    {
      "cell_type": "code",
      "metadata": {
        "id": "ehIRti6ZT2Tv",
        "colab_type": "code",
        "colab": {}
      },
      "source": [
        "def train_and_predict(model):\n",
        "  model_trained = train_model(model, X_train, y_train)\n",
        "  return predict(model_trained, X_test, y_test)"
      ],
      "execution_count": 0,
      "outputs": []
    },
    {
      "cell_type": "code",
      "metadata": {
        "id": "GkHY-BtxT44G",
        "colab_type": "code",
        "colab": {}
      },
      "source": [
        ""
      ],
      "execution_count": 0,
      "outputs": []
    },
    {
      "cell_type": "code",
      "metadata": {
        "id": "Y4FaRrBrFN-2",
        "colab_type": "code",
        "outputId": "4e80772f-9300-4a24-c2fc-5bf30b6edd26",
        "colab": {
          "base_uri": "https://localhost:8080/",
          "height": 224
        }
      },
      "source": [
        "def get_cnn_v2(input_shape, num_classes):\n",
        "  return Sequential([\n",
        "    Conv2D(filters=32, kernel_size = (3, 3), activation='relu', input_shape = input_shape),\n",
        "    MaxPool2D(),\n",
        "    Dropout(0.3),\n",
        "\n",
        "    Conv2D(filters=64, kernel_size = (3, 3), activation='relu'),\n",
        "    MaxPool2D(),\n",
        "    Dropout(0.3),\n",
        "\n",
        "    Flatten(),\n",
        "    Dense(1024, activation='relu'),\n",
        "    Dropout(0.3),\n",
        "\n",
        "    Dense(num_classes, activation='softmax'),\n",
        "])\n",
        "\n",
        "\n",
        "\n",
        "train_and_predict(get_cnn_v2(input_shape, num_classes))"
      ],
      "execution_count": 0,
      "outputs": [
        {
          "output_type": "stream",
          "text": [
            "Epoch 1/5\n",
            "272/272 [==============================] - 5s 18ms/step - loss: 3.9373 - accuracy: 0.3132 - val_loss: 1.3468 - val_accuracy: 0.6382\n",
            "Epoch 2/5\n",
            "272/272 [==============================] - 5s 17ms/step - loss: 0.9426 - accuracy: 0.7220 - val_loss: 0.2840 - val_accuracy: 0.9366\n",
            "Epoch 3/5\n",
            "272/272 [==============================] - 5s 17ms/step - loss: 0.4534 - accuracy: 0.8674 - val_loss: 0.1259 - val_accuracy: 0.9736\n",
            "Epoch 4/5\n",
            "272/272 [==============================] - 5s 17ms/step - loss: 0.3076 - accuracy: 0.9095 - val_loss: 0.0626 - val_accuracy: 0.9881\n",
            "Epoch 5/5\n",
            "272/272 [==============================] - 5s 18ms/step - loss: 0.2468 - accuracy: 0.9276 - val_loss: 0.0563 - val_accuracy: 0.9911\n"
          ],
          "name": "stdout"
        },
        {
          "output_type": "execute_result",
          "data": {
            "text/plain": [
              "0.9267573696145125"
            ]
          },
          "metadata": {
            "tags": []
          },
          "execution_count": 30
        }
      ]
    },
    {
      "cell_type": "code",
      "metadata": {
        "id": "fyQL5igTW0Rv",
        "colab_type": "code",
        "outputId": "ac06dbdc-ec04-4f64-d87f-b19e9f937457",
        "colab": {
          "base_uri": "https://localhost:8080/",
          "height": 224
        }
      },
      "source": [
        "def get_cnn_v3(input_shape, num_classes):\n",
        "  return Sequential([\n",
        "    Conv2D(filters=32, kernel_size = (3, 3), activation='relu', input_shape = input_shape),\n",
        "    Conv2D(filters=32, kernel_size = (3, 3), activation='relu'),\n",
        "    MaxPool2D(),\n",
        "    Dropout(0.3),\n",
        "\n",
        "    Conv2D(filters=64, kernel_size = (3, 3), activation='relu'),\n",
        "    Conv2D(filters=64, kernel_size = (3, 3), activation='relu'),\n",
        "    MaxPool2D(),\n",
        "    Dropout(0.3),\n",
        "\n",
        "    Flatten(),\n",
        "    Dense(1024, activation='relu'),\n",
        "    Dropout(0.3),\n",
        "\n",
        "    Dense(num_classes, activation='softmax'),\n",
        "])\n",
        "\n",
        "\n",
        "\n",
        "train_and_predict(get_cnn_v3(input_shape, num_classes))"
      ],
      "execution_count": 0,
      "outputs": [
        {
          "output_type": "stream",
          "text": [
            "Epoch 1/5\n",
            "272/272 [==============================] - 5s 20ms/step - loss: 2.0898 - accuracy: 0.5279 - val_loss: 0.3124 - val_accuracy: 0.9346\n",
            "Epoch 2/5\n",
            "272/272 [==============================] - 5s 19ms/step - loss: 0.4726 - accuracy: 0.8581 - val_loss: 0.0956 - val_accuracy: 0.9822\n",
            "Epoch 3/5\n",
            "272/272 [==============================] - 5s 19ms/step - loss: 0.2649 - accuracy: 0.9230 - val_loss: 0.0610 - val_accuracy: 0.9874\n",
            "Epoch 4/5\n",
            "272/272 [==============================] - 5s 19ms/step - loss: 0.2066 - accuracy: 0.9386 - val_loss: 0.0521 - val_accuracy: 0.9891\n",
            "Epoch 5/5\n",
            "272/272 [==============================] - 5s 18ms/step - loss: 0.1492 - accuracy: 0.9546 - val_loss: 0.0296 - val_accuracy: 0.9929\n"
          ],
          "name": "stdout"
        },
        {
          "output_type": "execute_result",
          "data": {
            "text/plain": [
              "0.9596371882086168"
            ]
          },
          "metadata": {
            "tags": []
          },
          "execution_count": 31
        }
      ]
    },
    {
      "cell_type": "code",
      "metadata": {
        "id": "U06G_4PzXt12",
        "colab_type": "code",
        "outputId": "7ccc9e68-0f64-49d6-d4f9-10063c155456",
        "colab": {
          "base_uri": "https://localhost:8080/",
          "height": 870
        }
      },
      "source": [
        "def get_cnn_v4(input_shape, num_classes):\n",
        "  return Sequential([\n",
        "    Conv2D(filters=32, kernel_size = (3, 3), activation='relu', input_shape = input_shape),\n",
        "    Conv2D(filters=32, kernel_size = (3, 3), activation='relu', padding = 'same'),\n",
        "    MaxPool2D(),\n",
        "    Dropout(0.3),\n",
        "\n",
        "    Conv2D(filters=64, kernel_size = (3, 3), activation='relu', padding = 'same'),\n",
        "    Conv2D(filters=64, kernel_size = (3, 3), activation='relu'),\n",
        "    MaxPool2D(),\n",
        "    Dropout(0.3),\n",
        "\n",
        "    Conv2D(filters=64, kernel_size = (3, 3), activation='relu', padding = 'same'),\n",
        "    Conv2D(filters=64, kernel_size = (3, 3), activation='relu'),\n",
        "    #MaxPool2D(),\n",
        "    Dropout(0.3),\n",
        "\n",
        "    Flatten(),\n",
        "    Dense(1024, activation='relu'),\n",
        "    Dropout(0.3),\n",
        "\n",
        "    Dense(num_classes, activation='softmax'),\n",
        "])\n",
        "\n",
        "get_cnn_v4(input_shape, num_classes).summary()\n",
        "\n",
        "train_and_predict(get_cnn_v4(input_shape, num_classes))"
      ],
      "execution_count": 0,
      "outputs": [
        {
          "output_type": "stream",
          "text": [
            "Model: \"sequential_12\"\n",
            "_________________________________________________________________\n",
            "Layer (type)                 Output Shape              Param #   \n",
            "=================================================================\n",
            "conv2d_45 (Conv2D)           (None, 30, 30, 32)        896       \n",
            "_________________________________________________________________\n",
            "conv2d_46 (Conv2D)           (None, 30, 30, 32)        9248      \n",
            "_________________________________________________________________\n",
            "max_pooling2d_19 (MaxPooling (None, 15, 15, 32)        0         \n",
            "_________________________________________________________________\n",
            "dropout_32 (Dropout)         (None, 15, 15, 32)        0         \n",
            "_________________________________________________________________\n",
            "conv2d_47 (Conv2D)           (None, 15, 15, 64)        18496     \n",
            "_________________________________________________________________\n",
            "conv2d_48 (Conv2D)           (None, 13, 13, 64)        36928     \n",
            "_________________________________________________________________\n",
            "max_pooling2d_20 (MaxPooling (None, 6, 6, 64)          0         \n",
            "_________________________________________________________________\n",
            "dropout_33 (Dropout)         (None, 6, 6, 64)          0         \n",
            "_________________________________________________________________\n",
            "conv2d_49 (Conv2D)           (None, 6, 6, 64)          36928     \n",
            "_________________________________________________________________\n",
            "conv2d_50 (Conv2D)           (None, 4, 4, 64)          36928     \n",
            "_________________________________________________________________\n",
            "dropout_34 (Dropout)         (None, 4, 4, 64)          0         \n",
            "_________________________________________________________________\n",
            "flatten_12 (Flatten)         (None, 1024)              0         \n",
            "_________________________________________________________________\n",
            "dense_21 (Dense)             (None, 1024)              1049600   \n",
            "_________________________________________________________________\n",
            "dropout_35 (Dropout)         (None, 1024)              0         \n",
            "_________________________________________________________________\n",
            "dense_22 (Dense)             (None, 43)                44075     \n",
            "=================================================================\n",
            "Total params: 1,233,099\n",
            "Trainable params: 1,233,099\n",
            "Non-trainable params: 0\n",
            "_________________________________________________________________\n",
            "Epoch 1/5\n",
            "272/272 [==============================] - 6s 23ms/step - loss: 2.0416 - accuracy: 0.4611 - val_loss: 0.4657 - val_accuracy: 0.8614\n",
            "Epoch 2/5\n",
            "272/272 [==============================] - 6s 22ms/step - loss: 0.5049 - accuracy: 0.8442 - val_loss: 0.1158 - val_accuracy: 0.9689\n",
            "Epoch 3/5\n",
            "272/272 [==============================] - 6s 22ms/step - loss: 0.2667 - accuracy: 0.9164 - val_loss: 0.0651 - val_accuracy: 0.9819\n",
            "Epoch 4/5\n",
            "272/272 [==============================] - 6s 22ms/step - loss: 0.1960 - accuracy: 0.9390 - val_loss: 0.0549 - val_accuracy: 0.9845\n",
            "Epoch 5/5\n",
            "272/272 [==============================] - 6s 22ms/step - loss: 0.1524 - accuracy: 0.9536 - val_loss: 0.0260 - val_accuracy: 0.9929\n"
          ],
          "name": "stdout"
        },
        {
          "output_type": "execute_result",
          "data": {
            "text/plain": [
              "0.9616780045351474"
            ]
          },
          "metadata": {
            "tags": []
          },
          "execution_count": 39
        }
      ]
    },
    {
      "cell_type": "code",
      "metadata": {
        "id": "Tx-5bh_XZm6R",
        "colab_type": "code",
        "outputId": "a86d6610-cfe9-4aa2-d87a-cff603cc52a9",
        "colab": {
          "base_uri": "https://localhost:8080/",
          "height": 34
        }
      },
      "source": [
        "X_train[0].shape"
      ],
      "execution_count": 0,
      "outputs": [
        {
          "output_type": "execute_result",
          "data": {
            "text/plain": [
              "(32, 32, 3)"
            ]
          },
          "metadata": {
            "tags": []
          },
          "execution_count": 41
        }
      ]
    },
    {
      "cell_type": "code",
      "metadata": {
        "id": "n0dpj4VoDQlj",
        "colab_type": "code",
        "outputId": "93e843a2-b57d-4908-fa76-4810e9e4546b",
        "colab": {
          "base_uri": "https://localhost:8080/",
          "height": 283
        }
      },
      "source": [
        "plt.imshow(X_test[500])"
      ],
      "execution_count": 0,
      "outputs": [
        {
          "output_type": "execute_result",
          "data": {
            "text/plain": [
              "<matplotlib.image.AxesImage at 0x7f20ef646438>"
            ]
          },
          "metadata": {
            "tags": []
          },
          "execution_count": 40
        },
        {
          "output_type": "display_data",
          "data": {
            "image/png": "[encoded data removed]",
            "text/plain": [
              "<Figure size 432x288 with 1 Axes>"
            ]
          },
          "metadata": {
            "tags": []
          }
        }
      ]
    },
    {
      "cell_type": "code",
      "metadata": {
        "id": "Yw7W_1rbZl1L",
        "colab_type": "code",
        "outputId": "14eefaff-14c0-4ad9-acfc-58ff56b266dd",
        "colab": {
          "base_uri": "https://localhost:8080/",
          "height": 283
        }
      },
      "source": [
        "plt.imshow(color.rgb2gray(X_train[0]), cmap = plt.get_cmap('gray'))"
      ],
      "execution_count": 0,
      "outputs": [
        {
          "output_type": "execute_result",
          "data": {
            "text/plain": [
              "<matplotlib.image.AxesImage at 0x7fc55a75a5c0>"
            ]
          },
          "metadata": {
            "tags": []
          },
          "execution_count": 45
        },
        {
          "output_type": "display_data",
          "data": {
            "image/png": "[encoded data removed]",
            "text/plain": [
              "<Figure size 432x288 with 1 Axes>"
            ]
          },
          "metadata": {
            "tags": []
          }
        }
      ]
    },
    {
      "cell_type": "code",
      "metadata": {
        "id": "VFc-uWHDEQqp",
        "colab_type": "code",
        "colab": {}
      },
      "source": [
        "X_train_gray = color.rgb2gray(X_train).reshape(-1, 32, 32, 1)\n",
        "X_test_gray = color.rgb2gray(X_test).reshape(-1, 32, 32, 1)"
      ],
      "execution_count": 0,
      "outputs": []
    },
    {
      "cell_type": "code",
      "metadata": {
        "id": "ZXtwfUuHaERl",
        "colab_type": "code",
        "outputId": "e6fb48f0-a50b-44a9-f3b7-b1ff2c1ed9b2",
        "colab": {
          "base_uri": "https://localhost:8080/",
          "height": 224
        }
      },
      "source": [
        "model = get_cnn_v4((32,32,1), num_classes)\n",
        "#model.compile(loss = 'crossenthropy', optimizer = 'Adam', metrics = ['accuracy'])\n",
        "model_trained = train_model(model, X_train_gray, y_train, params_fit = {})\n",
        "predict(model_trained, X_test_gray, y_test) #4 dzień"
      ],
      "execution_count": 0,
      "outputs": [
        {
          "output_type": "stream",
          "text": [
            "Epoch 1/5\n",
            "272/272 [==============================] - 7s 24ms/step - loss: 1.7053 - accuracy: 0.5244 - val_loss: 0.2342 - val_accuracy: 0.9398\n",
            "Epoch 2/5\n",
            "272/272 [==============================] - 6s 23ms/step - loss: 0.2646 - accuracy: 0.9176 - val_loss: 0.0631 - val_accuracy: 0.9833\n",
            "Epoch 3/5\n",
            "272/272 [==============================] - 6s 23ms/step - loss: 0.1378 - accuracy: 0.9582 - val_loss: 0.0334 - val_accuracy: 0.9900\n",
            "Epoch 4/5\n",
            "272/272 [==============================] - 6s 23ms/step - loss: 0.0987 - accuracy: 0.9686 - val_loss: 0.0175 - val_accuracy: 0.9955\n",
            "Epoch 5/5\n",
            "272/272 [==============================] - 6s 23ms/step - loss: 0.0720 - accuracy: 0.9778 - val_loss: 0.0122 - val_accuracy: 0.9968\n"
          ],
          "name": "stdout"
        },
        {
          "output_type": "execute_result",
          "data": {
            "text/plain": [
              "0.964172335600907"
            ]
          },
          "metadata": {
            "tags": []
          },
          "execution_count": 57
        }
      ]
    },
    {
      "cell_type": "code",
      "metadata": {
        "id": "6yifxr08dee9",
        "colab_type": "code",
        "outputId": "7cabad04-5bba-49c6-ded0-dc71d62d36c1",
        "colab": {
          "base_uri": "https://localhost:8080/",
          "height": 283
        }
      },
      "source": [
        "plt.imshow(color.rgb2gray(X_train[0]), cmap = plt.get_cmap('gray'))"
      ],
      "execution_count": 0,
      "outputs": [
        {
          "output_type": "execute_result",
          "data": {
            "text/plain": [
              "<matplotlib.image.AxesImage at 0x7fc55b5d7400>"
            ]
          },
          "metadata": {
            "tags": []
          },
          "execution_count": 58
        },
        {
          "output_type": "display_data",
          "data": {
            "image/png": "[encoded data removed]",
            "text/plain": [
              "<Figure size 432x288 with 1 Axes>"
            ]
          },
          "metadata": {
            "tags": []
          }
        }
      ]
    },
    {
      "cell_type": "code",
      "metadata": {
        "id": "Ex_3W97Ndq8S",
        "colab_type": "code",
        "colab": {}
      },
      "source": [
        ""
      ],
      "execution_count": 0,
      "outputs": []
    },
    {
      "cell_type": "code",
      "metadata": {
        "id": "F4ZxrPj4FxgP",
        "colab_type": "code",
        "outputId": "38b9d78b-f309-428b-af32-4b26612caca0",
        "colab": {
          "base_uri": "https://localhost:8080/",
          "height": 838
        }
      },
      "source": [
        "%tensorboard --logdir logs"
      ],
      "execution_count": 0,
      "outputs": []
    },
    {
      "cell_type": "code",
      "metadata": {
        "id": "Oc5TdiCsK7Ge",
        "colab_type": "code",
        "colab": {}
      },
      "source": [
        "def get_cnn_v2(input_shape, num_classes):\n",
        "  return Sequential([\n",
        "    Conv2D(filters=32, kernel_size = (3, 3), activation='relu', input_shape = input_shape),\n",
        "    MaxPool2D(),\n",
        "    Dropout(0.5),\n",
        "\n",
        "    Conv2D(filters=64, kernel_size = (3, 3), activation='relu', input_shape = input_shape),\n",
        "    MaxPool2D(),\n",
        "    Dropout(0.3),\n",
        "\n",
        "    Flatten(),\n",
        "\n",
        "    Dense(1024, activation='relu'),\n",
        "    Dropout(0.5),\n",
        "\n",
        "    Dense(num_classes, activation = 'softmax')\n",
        "])\n",
        "\n"
      ],
      "execution_count": 0,
      "outputs": []
    },
    {
      "cell_type": "code",
      "metadata": {
        "id": "OrtJ0sBvL5fu",
        "colab_type": "code",
        "outputId": "90a49efe-b1d3-4542-8abc-39bcff2c5649",
        "colab": {
          "base_uri": "https://localhost:8080/",
          "height": 904
        }
      },
      "source": [
        "model = get_cnn_v2(input_shape, num_classes)\n",
        "params_fit = {\n",
        "    'epochs': 25\n",
        "}\n",
        "train_model(model, X_train, y_train, params_fit)"
      ],
      "execution_count": 0,
      "outputs": [
        {
          "output_type": "stream",
          "text": [
            "Epoch 1/25\n",
            "272/272 [==============================] - 3s 10ms/step - loss: 8.0911 - accuracy: 0.1172 - val_loss: 2.8891 - val_accuracy: 0.2103\n",
            "Epoch 2/25\n",
            "272/272 [==============================] - 2s 9ms/step - loss: 2.4857 - accuracy: 0.3172 - val_loss: 1.7992 - val_accuracy: 0.4779\n",
            "Epoch 3/25\n",
            "272/272 [==============================] - 3s 9ms/step - loss: 1.7653 - accuracy: 0.4677 - val_loss: 1.0919 - val_accuracy: 0.6713\n",
            "Epoch 4/25\n",
            "272/272 [==============================] - 3s 9ms/step - loss: 1.1830 - accuracy: 0.6329 - val_loss: 0.5528 - val_accuracy: 0.8474\n",
            "Epoch 5/25\n",
            "272/272 [==============================] - 2s 9ms/step - loss: 0.8414 - accuracy: 0.7384 - val_loss: 0.3469 - val_accuracy: 0.9223\n",
            "Epoch 6/25\n",
            "272/272 [==============================] - 2s 9ms/step - loss: 0.6538 - accuracy: 0.7961 - val_loss: 0.2654 - val_accuracy: 0.9330\n",
            "Epoch 7/25\n",
            "272/272 [==============================] - 2s 9ms/step - loss: 0.5449 - accuracy: 0.8305 - val_loss: 0.1558 - val_accuracy: 0.9643\n",
            "Epoch 8/25\n",
            "272/272 [==============================] - 3s 9ms/step - loss: 0.4529 - accuracy: 0.8583 - val_loss: 0.1543 - val_accuracy: 0.9626\n",
            "Epoch 9/25\n",
            "272/272 [==============================] - 3s 9ms/step - loss: 0.3957 - accuracy: 0.8773 - val_loss: 0.1024 - val_accuracy: 0.9738\n",
            "Epoch 10/25\n",
            "272/272 [==============================] - 2s 9ms/step - loss: 0.3590 - accuracy: 0.8911 - val_loss: 0.0779 - val_accuracy: 0.9848\n",
            "Epoch 11/25\n",
            "272/272 [==============================] - 3s 9ms/step - loss: 0.3325 - accuracy: 0.8985 - val_loss: 0.0744 - val_accuracy: 0.9811\n",
            "Epoch 12/25\n",
            "272/272 [==============================] - 3s 9ms/step - loss: 0.3120 - accuracy: 0.9041 - val_loss: 0.0730 - val_accuracy: 0.9816\n",
            "Epoch 13/25\n",
            "272/272 [==============================] - 3s 9ms/step - loss: 0.2927 - accuracy: 0.9093 - val_loss: 0.0598 - val_accuracy: 0.9869\n",
            "Epoch 14/25\n",
            "272/272 [==============================] - 3s 9ms/step - loss: 0.2757 - accuracy: 0.9184 - val_loss: 0.0562 - val_accuracy: 0.9878\n",
            "Epoch 15/25\n",
            "272/272 [==============================] - 3s 10ms/step - loss: 0.2736 - accuracy: 0.9171 - val_loss: 0.0616 - val_accuracy: 0.9852\n",
            "Epoch 16/25\n",
            "272/272 [==============================] - 3s 10ms/step - loss: 0.2741 - accuracy: 0.9185 - val_loss: 0.0358 - val_accuracy: 0.9910\n",
            "Epoch 17/25\n",
            "272/272 [==============================] - 3s 10ms/step - loss: 0.2652 - accuracy: 0.9202 - val_loss: 0.0446 - val_accuracy: 0.9908\n",
            "Epoch 18/25\n",
            "272/272 [==============================] - 3s 10ms/step - loss: 0.2507 - accuracy: 0.9257 - val_loss: 0.0373 - val_accuracy: 0.9916\n",
            "Epoch 19/25\n",
            "272/272 [==============================] - 3s 9ms/step - loss: 0.2494 - accuracy: 0.9277 - val_loss: 0.0353 - val_accuracy: 0.9897\n",
            "Epoch 20/25\n",
            "272/272 [==============================] - 2s 9ms/step - loss: 0.2365 - accuracy: 0.9317 - val_loss: 0.0410 - val_accuracy: 0.9904\n",
            "Epoch 21/25\n",
            "272/272 [==============================] - 2s 9ms/step - loss: 0.2254 - accuracy: 0.9332 - val_loss: 0.0293 - val_accuracy: 0.9935\n",
            "Epoch 22/25\n",
            "272/272 [==============================] - 2s 9ms/step - loss: 0.2497 - accuracy: 0.9296 - val_loss: 0.0317 - val_accuracy: 0.9915\n",
            "Epoch 23/25\n",
            "272/272 [==============================] - 2s 9ms/step - loss: 0.2316 - accuracy: 0.9333 - val_loss: 0.0295 - val_accuracy: 0.9929\n",
            "Epoch 24/25\n",
            "272/272 [==============================] - 3s 9ms/step - loss: 0.2376 - accuracy: 0.9340 - val_loss: 0.0344 - val_accuracy: 0.9896\n",
            "Epoch 25/25\n",
            "272/272 [==============================] - 2s 9ms/step - loss: 0.2352 - accuracy: 0.9343 - val_loss: 0.0472 - val_accuracy: 0.9889\n"
          ],
          "name": "stdout"
        },
        {
          "output_type": "execute_result",
          "data": {
            "text/plain": [
              "'logs/20200402-131908'"
            ]
          },
          "metadata": {
            "tags": []
          },
          "execution_count": 16
        }
      ]
    },
    {
      "cell_type": "code",
      "metadata": {
        "id": "mgSiNjOKNXFA",
        "colab_type": "code",
        "outputId": "33dc2599-817a-4d30-c468-df79ffdf27de",
        "colab": {
          "base_uri": "https://localhost:8080/",
          "height": 838
        }
      },
      "source": [
        "%tensorboard --logdir logs"
      ],
      "execution_count": 0,
      "outputs": []
    },
    {
      "cell_type": "markdown",
      "metadata": {
        "id": "-zhVVDyrPeoW",
        "colab_type": "text"
      },
      "source": [
        ""
      ]
    },
    {
      "cell_type": "code",
      "metadata": {
        "id": "qC4ftGtvOkiW",
        "colab_type": "code",
        "colab": {}
      },
      "source": [
        ""
      ],
      "execution_count": 0,
      "outputs": []
    }
  ]
}